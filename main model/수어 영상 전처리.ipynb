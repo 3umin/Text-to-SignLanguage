{
 "cells": [
  {
   "cell_type": "markdown",
   "id": "11fabb53",
   "metadata": {},
   "source": [
    "## 정면 수어영상만 남기기"
   ]
  },
  {
   "cell_type": "code",
   "execution_count": null,
   "id": "00376970",
   "metadata": {},
   "outputs": [],
   "source": [
    "import os\n",
    "import fnmatch\n",
    "import json\n",
    "\n",
    "\n",
    "folder_path = \"E:\\\\새 폴더\\\\수어 영상\\\\1.Training\\\\[원천]01_real_word_video\\\\01\"\n",
    "folder_list = os.listdir(folder_path)\n",
    "print(folder_list)\n",
    "\n",
    "\n",
    "path = os.getcwd()\n",
    "print(path)\n",
    "os.chdir(\"E:\\\\새 폴더\\\\수어 영상\\\\1.Training\\\\[원천]01_real_word_video\\\\01\")\n",
    "path = os.getcwd()\n",
    "print(path)\n",
    "\n",
    "\n",
    "list=[\"*_D.mp4\",\"*_U.mp4\",\"*_L.mp4\",\"*_R.mp4\"]\n",
    "\n",
    "for filename in os.listdir(folder_path):\n",
    "    for i in list:\n",
    "        if fnmatch.fnmatch(filename, i):\n",
    "\n",
    "            os.remove(filename)\n",
    "            print(filename)\n",
    "            ##F 즉 정면만 남음\n",
    "\n",
    "'''\n",
    "api=[]\n",
    "for i in range(1,31):\n",
    "\n",
    "    with open('C:\\\\Users\\\\POCO\\\\Desktop\\\\sample\\\\label\\\\morpheme\\\\NIA_SL_SEN00'+str(i).zfill(2)+'_REAL01_F_morpheme.json', 'r', encoding='UTF8') as f:\n",
    "        content = json.load(f)\n",
    "        if content['data'][0]['attributes'][0]['name'] in api:\n",
    "            api.append(content['data'][0]['attributes'][0]['name'] + str(k))\n",
    "            k+=1\n",
    "        else:\n",
    "            k=1\n",
    "            api.append(content['data'][0]['attributes'][0]['name'])\n",
    "print(api)\n",
    "\n",
    "\n",
    "file_path = \"C:\\\\Users\\\\POCO\\\\Desktop\\\\sample\\\\video\"\n",
    "file_list = os.listdir(file_path)\n",
    "print(file_list)\n",
    "\n",
    "\n",
    "path = os.getcwd()\n",
    "print(path)\n",
    "os.chdir(\"C:\\\\Users\\\\POCO\\\\Desktop\\\\sample\\\\video\")\n",
    "path = os.getcwd()\n",
    "print(path)\n",
    "\n",
    "i = 0\n",
    "for name in file_list:\n",
    "    src = os.path.join(file_path, name)\n",
    "    dst = api[i]+'.mp4'\n",
    "    dst = os.path.join(file_path, dst)\n",
    "    os.rename(src, dst)\n",
    "    i+=1\n",
    "'''"
   ]
  },
  {
   "cell_type": "markdown",
   "id": "939e7938",
   "metadata": {},
   "source": [
    "## 단어리스트 생성"
   ]
  },
  {
   "cell_type": "code",
   "execution_count": null,
   "id": "0ae935ab",
   "metadata": {},
   "outputs": [],
   "source": [
    "import os\n",
    "import json\n",
    "\n",
    "file_list = os.listdir('D:\\\\수어 영상\\\\1.Training\\\\[라벨]01_real_word_morpheme\\\\morpheme')\n",
    "word = []\n",
    "filename = []\n",
    "\n",
    "for file in file_list:\n",
    "    \n",
    "    filename.append(file[:-14] + '.mp4')\n",
    "    \n",
    "    with open('D:\\\\수어 영상\\\\1.Training\\\\[라벨]01_real_word_morpheme\\\\morpheme\\\\' + file, 'r', encoding='UTF8') as f:\n",
    "        content = json.load(f)\n",
    "    \n",
    "    word.append(content['data'][0]['attributes'][0]['name'])"
   ]
  }
 ],
 "metadata": {
  "kernelspec": {
   "display_name": "Python 3 (ipykernel)",
   "language": "python",
   "name": "python3"
  },
  "language_info": {
   "codemirror_mode": {
    "name": "ipython",
    "version": 3
   },
   "file_extension": ".py",
   "mimetype": "text/x-python",
   "name": "python",
   "nbconvert_exporter": "python",
   "pygments_lexer": "ipython3",
   "version": "3.9.12"
  }
 },
 "nbformat": 4,
 "nbformat_minor": 5
}
