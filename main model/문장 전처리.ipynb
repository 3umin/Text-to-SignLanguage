{
 "cells": [
  {
   "cell_type": "code",
   "execution_count": 87,
   "id": "17710008",
   "metadata": {},
   "outputs": [],
   "source": [
    "from konlpy.tag import Okt\n",
    "okt = Okt()\n",
    "txt = '나는 오늘 밥을 먹었다'\n",
    "po = okt.pos(txt,norm=True, stem=True, join=True)"
   ]
  },
  {
   "cell_type": "code",
   "execution_count": 88,
   "id": "90966a97",
   "metadata": {},
   "outputs": [
    {
     "name": "stdout",
     "output_type": "stream",
     "text": [
      "는/Josa\n",
      "을/Josa\n"
     ]
    }
   ],
   "source": [
    "import fnmatch\n",
    "list=[\"*/Josa\", \"*/Punctuation\"]\n",
    "\n",
    "for pos in po:\n",
    "    for i in list:\n",
    "        if fnmatch.fnmatch(pos, i):\n",
    "            po.remove(pos)\n",
    "            print(pos)"
   ]
  },
  {
   "cell_type": "code",
   "execution_count": 89,
   "id": "9eebb679",
   "metadata": {},
   "outputs": [
    {
     "data": {
      "text/plain": [
       "['나/Noun', '오늘/Noun', '밥/Noun', '먹다/Verb']"
      ]
     },
     "execution_count": 89,
     "metadata": {},
     "output_type": "execute_result"
    }
   ],
   "source": [
    "po"
   ]
  },
  {
   "cell_type": "code",
   "execution_count": 90,
   "id": "2ca0aa31",
   "metadata": {},
   "outputs": [],
   "source": [
    "for i in range(len(po)):\n",
    "    po[i] = re.sub('[/A-z]', '', po[i])"
   ]
  },
  {
   "cell_type": "code",
   "execution_count": null,
   "id": "d05439d1",
   "metadata": {},
   "outputs": [],
   "source": [
    "po"
   ]
  },
  {
   "cell_type": "markdown",
   "id": "9ccdf047",
   "metadata": {},
   "source": [
    "### 만약 정해진 영상 리스트에 단어가 없다면 한글자씩 수어를 반환하기 위한 과정"
   ]
  },
  {
   "cell_type": "code",
   "execution_count": 92,
   "id": "e8a97537",
   "metadata": {},
   "outputs": [
    {
     "data": {
      "text/plain": [
       "['나', '오늘', 'ㅂ', 'ㅏ', 'ㅂ', 'ㅁ', 'ㅓ', 'ㄱ', 'ㄷ', 'ㅏ']"
      ]
     },
     "execution_count": 92,
     "metadata": {},
     "output_type": "execute_result"
    }
   ],
   "source": [
    "# ls : 수어 영상 리스트\n",
    "ls = ['나', '오늘']\n",
    "po_list = []\n",
    "\n",
    "\n",
    "for i in range(len(po)):\n",
    "    if po[i] in ls:\n",
    "        po_list.append(po[i])\n",
    "    else:\n",
    "        text = j2hcj(h2j(po[i]))\n",
    "        for i in range(len(text)):\n",
    "            po_list.append(text[i])\n",
    "            \n",
    "po_list"
   ]
  }
 ],
 "metadata": {
  "kernelspec": {
   "display_name": "Python 3 (ipykernel)",
   "language": "python",
   "name": "python3"
  },
  "language_info": {
   "codemirror_mode": {
    "name": "ipython",
    "version": 3
   },
   "file_extension": ".py",
   "mimetype": "text/x-python",
   "name": "python",
   "nbconvert_exporter": "python",
   "pygments_lexer": "ipython3",
   "version": "3.9.12"
  }
 },
 "nbformat": 4,
 "nbformat_minor": 5
}
